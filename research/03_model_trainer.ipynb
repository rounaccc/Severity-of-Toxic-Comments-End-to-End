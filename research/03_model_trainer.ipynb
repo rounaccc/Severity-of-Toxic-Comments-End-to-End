{
 "cells": [
  {
   "cell_type": "code",
   "execution_count": 1,
   "metadata": {},
   "outputs": [
    {
     "data": {
      "text/plain": [
       "'c:\\\\Users\\\\Rounak\\\\Desktop\\\\OneDrive\\\\College\\\\Projects\\\\Severity-of-Toxic-Commentis-End-to-End'"
      ]
     },
     "execution_count": 1,
     "metadata": {},
     "output_type": "execute_result"
    }
   ],
   "source": [
    "import os\n",
    "os.chdir('../')\n",
    "%pwd"
   ]
  },
  {
   "cell_type": "code",
   "execution_count": 9,
   "metadata": {},
   "outputs": [],
   "source": [
    "from dataclasses import dataclass\n",
    "from pathlib import Path\n",
    "\n",
    "@dataclass(frozen=True)\n",
    "class ModelTrainerConfig:\n",
    "    root_dir: Path\n",
    "    processed_test_data_dir: Path\n",
    "    processed_train_data_dir: Path\n",
    "    tokenizer_dir: Path\n",
    "    epochs: int\n",
    "    embedding_dim: int\n",
    "    batch_size: int\n",
    "    fasttext_model_path: Path\n",
    "    max_features: int"
   ]
  },
  {
   "cell_type": "code",
   "execution_count": 3,
   "metadata": {},
   "outputs": [],
   "source": [
    "from SeverityOfToxicCommentsEndToEnd.utils.common import read_yaml, create_directories\n",
    "from SeverityOfToxicCommentsEndToEnd.constants import *"
   ]
  },
  {
   "cell_type": "code",
   "execution_count": 11,
   "metadata": {},
   "outputs": [],
   "source": [
    "class ConfigurationManager:\n",
    "    def __init__(self, config_filepath = CONFIG_FILE_PATH, params_filepath = PARAMS_FILE_PATH):\n",
    "        self.config = read_yaml(config_filepath)\n",
    "        self.params = read_yaml(params_filepath)\n",
    "\n",
    "        create_directories([self.config.artifacts_root])\n",
    "    \n",
    "    def get_model_trainer_config(self) -> ModelTrainerConfig:\n",
    "        config = self.config.model_trainer\n",
    "        params = self.params.TransformationAndTrainingArguments\n",
    "\n",
    "        create_directories([config.root_dir])\n",
    "\n",
    "        model_trainer_config = ModelTrainerConfig(\n",
    "            root_dir = config.root_dir,\n",
    "            processed_test_data_dir = config.processed_test_data_dir,\n",
    "            processed_train_data_dir = config.processed_train_data_dir,\n",
    "            tokenizer_dir = config.tokenizer_dir,\n",
    "            epochs = params.epochs,\n",
    "            embedding_dim = params.embedding_dim,\n",
    "            batch_size = params.batch_size,\n",
    "            fasttext_model_path = config.fasttext_model_path,\n",
    "            max_features = params.max_features\n",
    "        )"
   ]
  },
  {
   "cell_type": "code",
   "execution_count": 12,
   "metadata": {},
   "outputs": [],
   "source": [
    "import tensorflow as tf\n",
    "import numpy as np"
   ]
  },
  {
   "cell_type": "code",
   "execution_count": null,
   "metadata": {},
   "outputs": [],
   "source": [
    "class ModelTrainer:\n",
    "    def __init__(self, config: ModelTrainerConfig):\n",
    "        self.config = config\n",
    "        self.embeddings_index_fasttext = {}\n",
    "\n",
    "    def train(self):\n",
    "        f = open('../input/popular-embedding/wiki-news-300d-1M/wiki-news-300d-1M.vec', encoding='utf8')\n",
    "        for line in f:\n",
    "            line.encode('utf-8').strip()\n",
    "            values = line.split()\n",
    "            word = values[0]\n",
    "            self.embeddings_index_fasttext[word] = np.asarray(values[1:], dtype='float32')\n",
    "        f.close()\n",
    "        embedding_matrix_fasttext = np.random.random((len(word_index) + 1, self.embedding_dim_fasttext))\n",
    "        for word, i in word_index.items():\n",
    "            embedding_vector = embeddings_index_fasttext.get(word)\n",
    "            if embedding_vector is not None:\n",
    "                embedding_matrix_fasttext[i] = embedding_vector"
   ]
  }
 ],
 "metadata": {
  "kernelspec": {
   "display_name": ".venv",
   "language": "python",
   "name": "python3"
  },
  "language_info": {
   "codemirror_mode": {
    "name": "ipython",
    "version": 3
   },
   "file_extension": ".py",
   "mimetype": "text/x-python",
   "name": "python",
   "nbconvert_exporter": "python",
   "pygments_lexer": "ipython3",
   "version": "3.8.0"
  },
  "orig_nbformat": 4
 },
 "nbformat": 4,
 "nbformat_minor": 2
}
