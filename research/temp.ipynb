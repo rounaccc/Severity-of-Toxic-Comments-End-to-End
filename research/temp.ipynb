{
 "cells": [
  {
   "cell_type": "code",
   "execution_count": 1,
   "metadata": {},
   "outputs": [
    {
     "data": {
      "text/plain": [
       "array([[ 0.85463629, -0.63991197,  0.9435382 ],\n",
       "       [-0.16999933, -0.95881139, -0.93138856],\n",
       "       [-2.658445  , -0.0599643 , -1.61201171],\n",
       "       [-1.54768658, -1.6436508 ,  0.17769215],\n",
       "       [-1.03351723, -0.90951974, -1.54088657],\n",
       "       [-0.75130858,  1.15326709, -0.44325588],\n",
       "       [ 0.57441403, -0.60893776,  1.10371782],\n",
       "       [-0.00312315,  1.33662467, -1.79960043],\n",
       "       [ 0.75609108, -0.44320546,  0.27877644],\n",
       "       [ 1.43652123, -0.50341493,  0.62248908],\n",
       "       [-1.82144675,  0.91650139, -0.64225529],\n",
       "       [ 0.83632774,  0.06393782, -0.75055037],\n",
       "       [-0.26999155, -0.59423172,  0.78356778],\n",
       "       [-0.00580469, -0.24358221, -0.94431049],\n",
       "       [-2.50447553,  0.44059298,  0.66758482],\n",
       "       [ 0.00983783,  2.65999207,  0.11531751],\n",
       "       [-1.9285157 , -2.28066519,  0.9089822 ],\n",
       "       [ 0.19383345, -0.18795909, -0.86546757],\n",
       "       [-0.16497495,  1.07509098,  1.01921046],\n",
       "       [-0.8024625 , -2.08491841,  0.9213948 ]])"
      ]
     },
     "execution_count": 1,
     "metadata": {},
     "output_type": "execute_result"
    }
   ],
   "source": [
    "import numpy as np\n",
    "np.random.randn(20, 3)"
   ]
  },
  {
   "cell_type": "code",
   "execution_count": 3,
   "metadata": {},
   "outputs": [],
   "source": [
    "import pandas as pd\n",
    "chart_data = pd.DataFrame(\n",
    "            [[0.9944303, 0.30935192, 0.96827364, 0.03371949, 0.7768373, 0.05459099]], columns=['Toxic', 'Severe Toxic', 'Obscene', 'Threat', 'Insult', 'Identity Hate'])"
   ]
  },
  {
   "cell_type": "code",
   "execution_count": 4,
   "metadata": {},
   "outputs": [
    {
     "data": {
      "text/html": [
       "<div>\n",
       "<style scoped>\n",
       "    .dataframe tbody tr th:only-of-type {\n",
       "        vertical-align: middle;\n",
       "    }\n",
       "\n",
       "    .dataframe tbody tr th {\n",
       "        vertical-align: top;\n",
       "    }\n",
       "\n",
       "    .dataframe thead th {\n",
       "        text-align: right;\n",
       "    }\n",
       "</style>\n",
       "<table border=\"1\" class=\"dataframe\">\n",
       "  <thead>\n",
       "    <tr style=\"text-align: right;\">\n",
       "      <th></th>\n",
       "      <th>Toxic</th>\n",
       "      <th>Severe Toxic</th>\n",
       "      <th>Obscene</th>\n",
       "      <th>Threat</th>\n",
       "      <th>Insult</th>\n",
       "      <th>Identity Hate</th>\n",
       "    </tr>\n",
       "  </thead>\n",
       "  <tbody>\n",
       "    <tr>\n",
       "      <th>0</th>\n",
       "      <td>0.99443</td>\n",
       "      <td>0.309352</td>\n",
       "      <td>0.968274</td>\n",
       "      <td>0.033719</td>\n",
       "      <td>0.776837</td>\n",
       "      <td>0.054591</td>\n",
       "    </tr>\n",
       "  </tbody>\n",
       "</table>\n",
       "</div>"
      ],
      "text/plain": [
       "     Toxic  Severe Toxic   Obscene    Threat    Insult  Identity Hate\n",
       "0  0.99443      0.309352  0.968274  0.033719  0.776837       0.054591"
      ]
     },
     "execution_count": 4,
     "metadata": {},
     "output_type": "execute_result"
    }
   ],
   "source": [
    "chart_data"
   ]
  },
  {
   "cell_type": "code",
   "execution_count": null,
   "metadata": {},
   "outputs": [],
   "source": []
  }
 ],
 "metadata": {
  "kernelspec": {
   "display_name": ".venv",
   "language": "python",
   "name": "python3"
  },
  "language_info": {
   "codemirror_mode": {
    "name": "ipython",
    "version": 3
   },
   "file_extension": ".py",
   "mimetype": "text/x-python",
   "name": "python",
   "nbconvert_exporter": "python",
   "pygments_lexer": "ipython3",
   "version": "3.8.0"
  },
  "orig_nbformat": 4
 },
 "nbformat": 4,
 "nbformat_minor": 2
}
